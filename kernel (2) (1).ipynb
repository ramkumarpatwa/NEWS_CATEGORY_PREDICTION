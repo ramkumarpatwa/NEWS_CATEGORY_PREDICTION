{
 "cells": [
  {
   "cell_type": "code",
   "execution_count": 1,
   "metadata": {
    "_cell_guid": "e5ee2b01-c7e8-4009-9ee8-9cb4fd425c2a",
    "_uuid": "20b4488cd1cd2873af2eeb17f12c83563bb18ff6"
   },
   "outputs": [
    {
     "name": "stdout",
     "output_type": "stream",
     "text": [
      "Wall time: 23.9 s\n"
     ]
    }
   ],
   "source": [
    "%%time\n",
    "import pandas as pd\n",
    "import numpy as np\n",
    "import json\n",
    "\n",
    "from sklearn.feature_extraction.text import TfidfVectorizer\n",
    "from sklearn.model_selection import train_test_split\n",
    "from scipy.sparse import hstack\n",
    "\n",
    "import matplotlib.pyplot as plt\n",
    "np.random.seed(0)"
   ]
  },
  {
   "cell_type": "code",
   "execution_count": 2,
   "metadata": {
    "_uuid": "a9f6367f7e9439ea1617e43c2d39bd613ae12cc1"
   },
   "outputs": [
    {
     "name": "stdout",
     "output_type": "stream",
     "text": [
      "['News_Category_Dataset.json']\n"
     ]
    }
   ],
   "source": [
    "import os\n",
    "print(os.listdir(\"../input\"))"
   ]
  },
  {
   "cell_type": "code",
   "execution_count": 3,
   "metadata": {
    "_uuid": "796423d5b75ab8b8af23b6ccd0598232e923727d"
   },
   "outputs": [],
   "source": [
    "n_df = pd.read_json('../input/News_Category_Dataset.json', lines=True)"
   ]
  },
  {
   "cell_type": "code",
   "execution_count": 4,
   "metadata": {
    "_uuid": "50807c77566f5971586328071beddc4a1aa5644d"
   },
   "outputs": [],
   "source": [
    "n_df['hds']=n_df['headline']+n_df['short_description']"
   ]
  },
  {
   "cell_type": "code",
   "execution_count": 5,
   "metadata": {
    "_uuid": "10d5725590fe3b8015bd0fcaa8a058c069105dc3"
   },
   "outputs": [],
   "source": [
    "import nltk\n",
    "import string\n",
    "from nltk.stem import PorterStemmer\n",
    "from nltk.corpus import stopwords\n",
    "stemmer = PorterStemmer()"
   ]
  },
  {
   "cell_type": "code",
   "execution_count": 6,
   "metadata": {
    "_uuid": "3ec0ce05f771100cfaa12b9fbbddd1e454fa553a"
   },
   "outputs": [],
   "source": [
    "def text_process(mess):\n",
    "    nopunc=[char for char in mess if char not in string.punctuation]\n",
    "    new1=''.join(nopunc)\n",
    "    new2=[stemmer.stem(word) for word in new1]\n",
    "    new3=''.join(new2)\n",
    "    return[word for word in new3.split()if word.lower()not in stopwords.words('english') ]"
   ]
  },
  {
   "cell_type": "code",
   "execution_count": 7,
   "metadata": {
    "_uuid": "f21be6e07f6c908f4e6acbac913aa67218b188de"
   },
   "outputs": [
    {
     "data": {
      "text/plain": [
       "0    There Were 2 Mass Shootings In Texas Last Week...\n",
       "1    Will Smith Joins Diplo And Nicky Jam For The 2...\n",
       "2    Hugh Grant Marries For The First Time At Age 5...\n",
       "3    Jim Carrey Blasts 'Castrato' Adam Schiff And D...\n",
       "4    Julianna Margulies Uses Donald Trump Poop Bags...\n",
       "Name: hds, dtype: object"
      ]
     },
     "execution_count": 7,
     "metadata": {},
     "output_type": "execute_result"
    }
   ],
   "source": [
    "n_df['hds'].head()"
   ]
  },
  {
   "cell_type": "code",
   "execution_count": 8,
   "metadata": {
    "_uuid": "d6a53ecf0ae57c9b4a6500e1acc72f92fe0d11b6"
   },
   "outputs": [
    {
     "data": {
      "text/plain": [
       "0    [2, Mass, Shootings, Texas, Last, Week, 1, TVS...\n",
       "1    [Smith, Joins, Diplo, Nicky, Jam, 2018, World,...\n",
       "2    [Hugh, Grant, Marries, First, Time, Age, 57The...\n",
       "3    [Jim, Carrey, Blasts, Castrato, Adam, Schiff, ...\n",
       "4    [Julianna, Margulies, Uses, Donald, Trump, Poo...\n",
       "Name: hds, dtype: object"
      ]
     },
     "execution_count": 8,
     "metadata": {},
     "output_type": "execute_result"
    }
   ],
   "source": [
    "n_df['hds'].head(5).apply(text_process)"
   ]
  },
  {
   "cell_type": "code",
   "execution_count": 9,
   "metadata": {
    "_cell_guid": "af559fdd-440f-4d56-ae09-383097a185d5",
    "_uuid": "6b3aebfede95b89345d16a50d96cba8699608aad"
   },
   "outputs": [],
   "source": [
    "train_text, test_text, ytrain, ytest = train_test_split(\n",
    "    n_df['hds'], n_df['category'], random_state=52)"
   ]
  },
  {
   "cell_type": "code",
   "execution_count": 10,
   "metadata": {
    "_cell_guid": "b166380a-c21c-4e2d-bd67-ecf97ff80338",
    "_uuid": "e27c8e2d77eb63bfe74384ffda34756d3b0a2b38"
   },
   "outputs": [
    {
     "name": "stdout",
     "output_type": "stream",
     "text": [
      "CPU times: user 2min 25s, sys: 8.82 s, total: 2min 33s\n",
      "Wall time: 2min 33s\n"
     ]
    }
   ],
   "source": [
    "%%time\n",
    "word_vectorizer = TfidfVectorizer(\n",
    "    sublinear_tf=True,\n",
    "    strip_accents='unicode',\n",
    "    analyzer='word',\n",
    "    token_pattern=r'\\w{1,}',\n",
    "    ngram_range=(1, 10))\n",
    "word_vectorizer.fit(train_text)"
   ]
  },
  {
   "cell_type": "code",
   "execution_count": 11,
   "metadata": {
    "_cell_guid": "a1b0eb23-2982-4c77-8256-1c8ea0e816c7",
    "_uuid": "4e4c2becbc5e2c5988230880233b7c024ba842fa"
   },
   "outputs": [
    {
     "name": "stdout",
     "output_type": "stream",
     "text": [
      "CPU times: user 1min 5s, sys: 2.58 s, total: 1min 7s\n",
      "Wall time: 1min 7s\n"
     ]
    }
   ],
   "source": [
    "%%time\n",
    "char_vectorizer = TfidfVectorizer(\n",
    "    sublinear_tf=True,\n",
    "    strip_accents='unicode',\n",
    "    analyzer='char',\n",
    "    ngram_range=(1, 5))\n",
    "char_vectorizer.fit(train_text)"
   ]
  },
  {
   "cell_type": "code",
   "execution_count": 12,
   "metadata": {
    "_cell_guid": "44de9119-0ed0-43b1-8f93-84ccc7ffd786",
    "_uuid": "4afeb6749df8260f074af6bf0ffba4e2bda988ce"
   },
   "outputs": [
    {
     "name": "stdout",
     "output_type": "stream",
     "text": [
      "CPU times: user 1min 50s, sys: 5.12 s, total: 1min 55s\n",
      "Wall time: 1min 55s\n"
     ]
    }
   ],
   "source": [
    "%%time\n",
    "X = hstack([word_vectorizer.transform(train_text), char_vectorizer.transform(train_text)])"
   ]
  },
  {
   "cell_type": "code",
   "execution_count": 13,
   "metadata": {
    "_cell_guid": "a0946f45-d966-4170-855a-c83f5676062e",
    "_uuid": "af3f179ff77c8a19cd5716f76303a058e5c656d4"
   },
   "outputs": [
    {
     "data": {
      "text/plain": [
       "SGDClassifier(alpha=0.0001, average=False, class_weight=None,\n",
       "       early_stopping=False, epsilon=0.1, eta0=0.0, fit_intercept=True,\n",
       "       l1_ratio=0.15, learning_rate='optimal', loss='hinge', max_iter=20,\n",
       "       n_iter=None, n_iter_no_change=5, n_jobs=None, penalty='l2',\n",
       "       power_t=0.5, random_state=None, shuffle=True, tol=None,\n",
       "       validation_fraction=0.1, verbose=0, warm_start=False)"
      ]
     },
     "execution_count": 13,
     "metadata": {},
     "output_type": "execute_result"
    }
   ],
   "source": [
    "from sklearn.linear_model import SGDClassifier\n",
    "sgd_cls = SGDClassifier(max_iter=20)\n",
    "sgd_cls.fit(X, ytrain)"
   ]
  },
  {
   "cell_type": "code",
   "execution_count": 14,
   "metadata": {
    "_cell_guid": "4bdf2a20-0364-46df-b9ca-85e5143beb13",
    "_uuid": "0641f63489e0d611de827e03edd37cafec9e7fa5"
   },
   "outputs": [],
   "source": [
    "predict = sgd_cls.predict(hstack([word_vectorizer.transform(test_text), char_vectorizer.transform(test_text)]))"
   ]
  },
  {
   "cell_type": "code",
   "execution_count": 15,
   "metadata": {
    "_uuid": "26090500f8ea6894c0047a38076da097f004336a"
   },
   "outputs": [],
   "source": [
    "acc = np.mean(ytest == predict)"
   ]
  },
  {
   "cell_type": "code",
   "execution_count": 16,
   "metadata": {
    "_uuid": "666f0652f6a85b08e9ade1195c79aa007f931c77"
   },
   "outputs": [
    {
     "name": "stdout",
     "output_type": "stream",
     "text": [
      "accuracy: 0.601\n"
     ]
    }
   ],
   "source": [
    "print('accuracy: {0:.3}'.format(acc))"
   ]
  },
  {
   "cell_type": "code",
   "execution_count": null,
   "metadata": {
    "_uuid": "30fa537f375d73aa841e0889ff1db120520608f6"
   },
   "outputs": [],
   "source": []
  },
  {
   "cell_type": "code",
   "execution_count": null,
   "metadata": {
    "_uuid": "d950961dbc244db735e42b6d78718dd0297935b9"
   },
   "outputs": [],
   "source": []
  }
 ],
 "metadata": {
  "kernelspec": {
   "display_name": "Python 3",
   "language": "python",
   "name": "python3"
  },
  "language_info": {
   "codemirror_mode": {
    "name": "ipython",
    "version": 3
   },
   "file_extension": ".py",
   "mimetype": "text/x-python",
   "name": "python",
   "nbconvert_exporter": "python",
   "pygments_lexer": "ipython3",
   "version": "3.7.0"
  }
 },
 "nbformat": 4,
 "nbformat_minor": 1
}
